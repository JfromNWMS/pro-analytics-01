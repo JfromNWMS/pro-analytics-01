{
 "cells": [
  {
   "cell_type": "markdown",
   "id": "3a421a39",
   "metadata": {},
   "source": [
    "# Jordan Notebook - Jupyter Notebook Demo\n",
    "\n",
    "- Author: [Jordan](https://github.com/JfromNWMS/)\n",
    "- Repository: [pro-analytics-01](https://github.com/JfromNWMS/pro-analytics-01)"
   ]
  },
  {
   "cell_type": "markdown",
   "id": "60793e93",
   "metadata": {},
   "source": [
    "### Section 1. Imports"
   ]
  },
  {
   "cell_type": "code",
   "execution_count": 11,
   "id": "23a2a79a",
   "metadata": {},
   "outputs": [],
   "source": [
    "from scipy.stats import shapiro\n",
    "from numpy.random import normal"
   ]
  },
  {
   "cell_type": "markdown",
   "id": "17412885",
   "metadata": {},
   "source": [
    "### Section 2. Analysis"
   ]
  },
  {
   "cell_type": "code",
   "execution_count": 12,
   "id": "6f163fdf",
   "metadata": {},
   "outputs": [
    {
     "name": "stdout",
     "output_type": "stream",
     "text": [
      "\n",
      "############################################\n",
      "        Shapiro-Wilk Normality Test\n",
      "############################################\n",
      "\n",
      "Statistic: 9.83397e-01  P-Value: 2.42047e-01\n",
      "\n"
     ]
    }
   ],
   "source": [
    "data = normal(5,10,100)\n",
    "\n",
    "statistic, p_value = shapiro(data)\n",
    "\n",
    "output: str = f\"\"\"\n",
    "############################################\n",
    "        Shapiro-Wilk Normality Test\n",
    "############################################\\n\n",
    "Statistic: {statistic:.5e}  P-Value: {p_value:.5e}\n",
    "\"\"\"\n",
    "\n",
    "print(output)"
   ]
  }
 ],
 "metadata": {
  "kernelspec": {
   "display_name": ".venv",
   "language": "python",
   "name": "python3"
  },
  "language_info": {
   "codemirror_mode": {
    "name": "ipython",
    "version": 3
   },
   "file_extension": ".py",
   "mimetype": "text/x-python",
   "name": "python",
   "nbconvert_exporter": "python",
   "pygments_lexer": "ipython3",
   "version": "3.13.3"
  }
 },
 "nbformat": 4,
 "nbformat_minor": 5
}
